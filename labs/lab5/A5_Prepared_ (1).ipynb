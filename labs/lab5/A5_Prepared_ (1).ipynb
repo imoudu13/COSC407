{
  "cells": [
    {
      "cell_type": "markdown",
      "metadata": {
        "id": "9JrIevO5mEoV"
      },
      "source": [
        "# A5 (10 Marks)\n",
        "---\n",
        "**Focus**: CUDA(A, B) - Introduction (warming up!!)\n",
        "Updated by A K M Amanat Ullah and Tanmaya Karmakar\n",
        "adapted from\n",
        "© Dr. Abdallah Mohamed 2023\n",
        "\n",
        "This version of the assignment is the Google Colab version and takes advantage of the free Cloud GPUs offered through the platform. Colab Notebooks (you're reading one right now!) are typically designed to run Python code, however, we'll be modifying them in such a way that we can run CUDA code (as discussed in the lectures) on the GPU.\n",
        "\n",
        "Keep in mind that anytime your runtime disconnects or is restarted **you must re-run the Notebook Setup code block**. This applies to all CUDA assignments done using Google Colab."
      ]
    },
    {
      "cell_type": "markdown",
      "metadata": {
        "id": "qLEOfByhv13v"
      },
      "source": [
        "The NVIDIA System Management Interface (nvidia-smi) is a command line utility, based on top of the NVIDIA Management Library (NVML), intended to aid in the management and monitoring of NVIDIA GPU devices."
      ]
    },
    {
      "cell_type": "code",
      "execution_count": null,
      "metadata": {
        "id": "_ELkkvJPul7K",
        "colab": {
          "base_uri": "https://localhost:8080/"
        },
        "outputId": "755ae6b2-71e1-4097-9ead-fe0a1d6c61f3"
      },
      "outputs": [
        {
          "output_type": "stream",
          "name": "stdout",
          "text": [
            "Wed Mar  5 23:07:44 2025       \n",
            "+-----------------------------------------------------------------------------------------+\n",
            "| NVIDIA-SMI 550.54.15              Driver Version: 550.54.15      CUDA Version: 12.4     |\n",
            "|-----------------------------------------+------------------------+----------------------+\n",
            "| GPU  Name                 Persistence-M | Bus-Id          Disp.A | Volatile Uncorr. ECC |\n",
            "| Fan  Temp   Perf          Pwr:Usage/Cap |           Memory-Usage | GPU-Util  Compute M. |\n",
            "|                                         |                        |               MIG M. |\n",
            "|=========================================+========================+======================|\n",
            "|   0  Tesla T4                       Off |   00000000:00:04.0 Off |                    0 |\n",
            "| N/A   49C    P8             10W /   70W |       0MiB /  15360MiB |      0%      Default |\n",
            "|                                         |                        |                  N/A |\n",
            "+-----------------------------------------+------------------------+----------------------+\n",
            "                                                                                         \n",
            "+-----------------------------------------------------------------------------------------+\n",
            "| Processes:                                                                              |\n",
            "|  GPU   GI   CI        PID   Type   Process name                              GPU Memory |\n",
            "|        ID   ID                                                               Usage      |\n",
            "|=========================================================================================|\n",
            "|  No running processes found                                                             |\n",
            "+-----------------------------------------------------------------------------------------+\n"
          ]
        }
      ],
      "source": [
        "!nvidia-smi"
      ]
    },
    {
      "cell_type": "code",
      "execution_count": null,
      "metadata": {
        "id": "60EqAbTlAbp_",
        "colab": {
          "base_uri": "https://localhost:8080/"
        },
        "outputId": "4334ea2d-4f6c-41f0-a015-f9ff83fbca65"
      },
      "outputs": [
        {
          "output_type": "stream",
          "name": "stdout",
          "text": [
            "nvcc: NVIDIA (R) Cuda compiler driver\n",
            "Copyright (c) 2005-2024 NVIDIA Corporation\n",
            "Built on Thu_Jun__6_02:18:23_PDT_2024\n",
            "Cuda compilation tools, release 12.5, V12.5.82\n",
            "Build cuda_12.5.r12.5/compiler.34385749_0\n"
          ]
        }
      ],
      "source": [
        "!nvcc --version"
      ]
    },
    {
      "cell_type": "markdown",
      "metadata": {
        "id": "O6I7-EHCnSB_"
      },
      "source": [
        "## Question 1. [+3]\n",
        "\n",
        "Querying your GPU: In this question, you will run simple query code to discover the properties and limits of your Colab-provisioned NVIDIA card. Run the code block below, then capture your answers and **submit** them as an image file named A5_Q1.png.\n",
        "\n",
        "\n",
        "*Marking Guide: +3 for a screenshot with the required info*\n"
      ]
    },
    {
      "cell_type": "markdown",
      "metadata": {
        "id": "q7tbzCB73zFY"
      },
      "source": [
        "Uploading Files to the Notebook.\n",
        "Click on the orange rectangle on the left to upload files from your hardisk"
      ]
    },
    {
      "cell_type": "markdown",
      "metadata": {
        "id": "X7SrFBPD2e57"
      },
      "source": [
        "![image.png](data:image/png;base64,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)"
      ]
    },
    {
      "cell_type": "markdown",
      "metadata": {
        "id": "zQHDgSNMPp6S"
      },
      "source": [
        "## For Q1 Copy the following code into Specs.cu\n",
        "\n",
        "```\n",
        "#include \"cuda_runtime.h\"\n",
        "#include \"device_launch_parameters.h\"\n",
        "#include <stdio.h>\n",
        "\n",
        "int main()\n",
        "{\n",
        "    cudaDeviceProp prop;\n",
        "    int count;\n",
        "    cudaGetDeviceCount(&count);\n",
        "    for (int i = 0; i < count; i++)\n",
        "    {\n",
        "        cudaGetDeviceProperties(&prop, i);\n",
        "        printf(\"----- General Information for device %d ---\\n\", i);\n",
        "        printf(\"Name:\t%s\\n\", prop.name);\n",
        "        printf(\"Compute capability:\t%d.%d\\n\", prop.major, prop.minor);\n",
        "        printf(\"Clock rate:\t%d\\n\", prop.clockRate);\n",
        "        printf(\"Device copy overlap:\t\");\n",
        "        printf(prop.deviceOverlap ? \"Enabled\\n\" : \"Disabled\\n\");\n",
        "        printf(\"Kernel execution timeout: \");\n",
        "        printf(prop.kernelExecTimeoutEnabled ? \"Enabled\\n\" : \"Disabled\\n\");\n",
        "        printf(\"----- Memory Information for device %d ---\\n\", i);\n",
        "        printf(\"Total global mem:\t%lu\\n\", prop.totalGlobalMem);\n",
        "        printf(\"Total constant Mem:\t%ld\\n\", prop.totalConstMem);\n",
        "        printf(\"Max mem pitch:\t%ld\\n\", prop.memPitch);\n",
        "        printf(\"Texture Alignment:\t%ld\\n\", prop.textureAlignment);\n",
        "        printf(\"----- MP Information for device %d ---\\n\", i);\n",
        "        printf(\"Multiprocessor count:\t%d\\n\", prop.multiProcessorCount);\n",
        "        printf(\"Shared mem per mp:\t%ld\\n\", prop.sharedMemPerBlock);\n",
        "        printf(\"Registers per mp:\t%d\\n\", prop.regsPerBlock);\n",
        "        printf(\"Threads in warp:\t%d\\n\", prop.warpSize);\n",
        "        printf(\"Max threads per block:\t%d\\n\", prop.maxThreadsPerBlock);\n",
        "        printf(\"Max thread dimensions:\t(%d, %d, %d)\\n\",\n",
        "               prop.maxThreadsDim[0], prop.maxThreadsDim[1], prop.maxThreadsDim[2]);\n",
        "        printf(\"Max grid dimensions:\t(%d, %d, %d)\\n\", prop.maxGridSize[0], prop.maxGridSize[1], prop.maxGridSize[2]);\n",
        "        printf(\"\\n\");\n",
        "    }\n",
        "    return 0;\n",
        "}\n",
        "\n",
        "```\n"
      ]
    },
    {
      "cell_type": "markdown",
      "metadata": {
        "id": "Ae4HcaotfOV6"
      },
      "source": [
        "Upload Specs.cu from your computer you create a empty file and edit it here on Google Colab. After having Specs.cu ready you can run the following code execute the code"
      ]
    },
    {
      "cell_type": "code",
      "source": [
        "!nvcc -arch=sm_75 /content/Specs.cu"
      ],
      "metadata": {
        "id": "bSu53mEPPAFL"
      },
      "execution_count": null,
      "outputs": []
    },
    {
      "cell_type": "markdown",
      "metadata": {
        "id": "znhIqaKyffZJ"
      },
      "source": [
        "Run a.out to see the output."
      ]
    },
    {
      "cell_type": "code",
      "execution_count": null,
      "metadata": {
        "id": "70e1oCRB7hka",
        "colab": {
          "base_uri": "https://localhost:8080/"
        },
        "outputId": "2401da02-5e6c-43d1-ce10-1bcb2e2b6213"
      },
      "outputs": [
        {
          "output_type": "stream",
          "name": "stdout",
          "text": [
            "----- General Information for device 0 ---\n",
            "Name:    Tesla T4\n",
            "Compute capability:    7.5\n",
            "Clock rate:    1590000\n",
            "Device copy overlap:    Enabled\n",
            "Kernel execution timeout: Disabled\n",
            "----- Memory Information for device 0 ---\n",
            "Total global mem:    15828320256\n",
            "Total constant Mem:    65536\n",
            "Max mem pitch:    2147483647\n",
            "Texture Alignment:    512\n",
            "----- MP Information for device 0 ---\n",
            "Multiprocessor count:    40\n",
            "Shared mem per mp:    49152\n",
            "Registers per mp:    65536\n",
            "Threads in warp:    32\n",
            "Max threads per block:    1024\n",
            "Max thread dimensions:    (1024, 1024, 64)\n",
            "Max grid dimensions:    (2147483647, 65535, 65535)\n",
            "\n"
          ]
        }
      ],
      "source": [
        "!./a.out"
      ]
    },
    {
      "cell_type": "markdown",
      "metadata": {
        "id": "nmVT48APRyKj"
      },
      "source": [
        "### Template to use for CPU Implementation\n",
        "\n",
        "Please write your code in a .c file. Upload, compile and run your implementation here. Submit the .c file."
      ]
    },
    {
      "cell_type": "code",
      "source": [
        "!nvcc -arch=sm_75 /content/template.c"
      ],
      "metadata": {
        "id": "MYhxVoJFRvKk"
      },
      "execution_count": null,
      "outputs": []
    },
    {
      "cell_type": "code",
      "source": [
        "!./a.out"
      ],
      "metadata": {
        "colab": {
          "base_uri": "https://localhost:8080/"
        },
        "id": "Fu2LUD40FscE",
        "outputId": "6e310c1c-53fa-4519-f17a-e9540348fa3d"
      },
      "execution_count": null,
      "outputs": [
        {
          "output_type": "stream",
          "name": "stdout",
          "text": [
            "a[0]: 5.000000 \n",
            "a[1]: 5.000000 \n",
            "a[2]: 5.000000 \n",
            "a[3]: 5.000000 \n",
            "a[4]: 5.000000 \n",
            "... \n",
            "a[9999995]: 5.000000 \n",
            "a[9999996]: 5.000000 \n",
            "a[9999997]: 5.000000 \n",
            "a[9999998]: 5.000000 \n",
            "a[9999999]: 5.000000 \n"
          ]
        }
      ]
    },
    {
      "cell_type": "markdown",
      "metadata": {
        "id": "_z_NlOUrATP6"
      },
      "source": [
        "## Question 2. [+7]\n",
        "\n",
        "**Simple CUDA code:** consider this loop for initializing an array **a**:\n",
        "\n",
        "```c\n",
        "const int n = 10000000 // 10 million\n",
        "for (i = 0; i < n; i++)\n",
        "    a[i] = (double)i / n;\n",
        "```\n",
        "\n",
        "Submit:\n",
        "\n",
        "1.   The serial implementation running on the CPU.\n",
        "2.   The CUDA implementation (1 thread per array element).\n",
        "\n",
        "In both cases, add code to print the first and last 5 elements of the array to verify your code.\n",
        "\n",
        "*Note that you need to use the placeholder %.7f to print 7 digits after the decimal point.*\n",
        "\n",
        "***Sample output:***\n",
        "\n",
        "```c\n",
        "a[0]: 0.0000000\n",
        "a[1]: 0.0000001\n",
        "a[2]: 0.0000002\n",
        "a[3]: 0.0000003\n",
        "a[4]: 0.0000004\n",
        "...\n",
        "a[9999995]: 0.9999995\n",
        "a[9999996]: 0.9999996\n",
        "a[9999997]: 0.9999997\n",
        "a[9999998]: 0.9999998\n",
        "a[9999999]: 0.9999999\n",
        "Time to complete: 0.5985 seconds\n",
        "```\n",
        "\n",
        "***Marking Guide:***\n",
        "\n",
        "+2 for measuring the time of the parallel and serial code\n",
        "\n",
        "+2 for the kernel function\n",
        "\n",
        "+3 for launch configuration and properly calling the kernel\n",
        "\n"
      ]
    },
    {
      "cell_type": "markdown",
      "metadata": {
        "id": "RyqpuDM2CX6K"
      },
      "source": [
        "### Your Turn: Do the CPU Implementation for the following code\n",
        "```\n",
        "const int n = 10000000 // 10 million\n",
        "for (i = 0; i < n; i++)\n",
        "    a[i] = (double)i / n;\n",
        "\n",
        "```\n",
        "Please write your code in a .c file. Upload, compile and run your implementation here. Submit the .c file."
      ]
    },
    {
      "cell_type": "markdown",
      "metadata": {
        "id": "VctRthC4ib--"
      },
      "source": [
        "Upload CPU.c"
      ]
    },
    {
      "cell_type": "code",
      "source": [
        "!nvcc -arch=sm_75 /content/Q2CPU.c\n"
      ],
      "metadata": {
        "id": "mMU53PcGYYq2"
      },
      "execution_count": null,
      "outputs": []
    },
    {
      "cell_type": "markdown",
      "metadata": {
        "id": "3xESy6BzjW82"
      },
      "source": [
        "Run code to check answers."
      ]
    },
    {
      "cell_type": "code",
      "source": [
        "!./a.out"
      ],
      "metadata": {
        "id": "_Gi1sJvEFvYn",
        "colab": {
          "base_uri": "https://localhost:8080/"
        },
        "outputId": "0ecee09d-10bb-4c6e-a825-912c54c9cc51"
      },
      "execution_count": null,
      "outputs": [
        {
          "output_type": "stream",
          "name": "stdout",
          "text": [
            "a[0]: 0.0000000 \n",
            "a[1]: 0.0000001 \n",
            "a[2]: 0.0000002 \n",
            "a[3]: 0.0000003 \n",
            "a[4]: 0.0000004 \n",
            "... \n",
            "a[9999995]: 0.9999995 \n",
            "a[9999996]: 0.9999996 \n",
            "a[9999997]: 0.9999997 \n",
            "a[9999998]: 0.9999998 \n",
            "a[9999999]: 0.9999999 \n"
          ]
        }
      ]
    },
    {
      "cell_type": "markdown",
      "metadata": {
        "id": "O0froFiPCwgJ"
      },
      "source": [
        "### CUDA Implementation\n",
        "\n",
        "Please write your code in a .cu file. Upload, compile and run your CUDA implementation here. Submit the cu file."
      ]
    },
    {
      "cell_type": "markdown",
      "metadata": {
        "id": "gBwup1MYtMbc"
      },
      "source": [
        "Upload Gpu code Q2GPU.cu"
      ]
    },
    {
      "cell_type": "markdown",
      "metadata": {
        "id": "bsegrdJTtRU0"
      },
      "source": [
        "Run Gpu code"
      ]
    },
    {
      "cell_type": "code",
      "source": [
        "!nvcc -arch=sm_75 /content/Q2GPU.cu"
      ],
      "metadata": {
        "id": "9iW-7EnTYgkn"
      },
      "execution_count": null,
      "outputs": []
    },
    {
      "cell_type": "code",
      "source": [
        "!./a.out"
      ],
      "metadata": {
        "id": "Oiu0TEIsF2Kl",
        "colab": {
          "base_uri": "https://localhost:8080/"
        },
        "outputId": "3436104a-1e03-4b75-93ea-709ff9873ed2"
      },
      "execution_count": null,
      "outputs": [
        {
          "output_type": "stream",
          "name": "stdout",
          "text": [
            "Element at index 0: 0.0000000\n",
            "Element at index 1: 0.0000001\n",
            "Element at index 2: 0.0000002\n",
            "Element at index 3: 0.0000003\n",
            "Element at index 4: 0.0000004\n",
            "Element at index 9999995: 0.9999995\n",
            "Element at index 9999996: 0.9999996\n",
            "Element at index 9999997: 0.9999997\n",
            "Element at index 9999998: 0.9999998\n",
            "Element at index 9999999: 0.9999999\n"
          ]
        }
      ]
    },
    {
      "cell_type": "markdown",
      "metadata": {
        "id": "hYLlFNpdDOOS"
      },
      "source": [
        "---\n",
        "\n",
        "**Submission instructions**\n",
        "\n",
        "For this assignment, you need to do the following:\n",
        "1. you have to submit the .ipynb file and the zipped version of following files\n",
        "- screenshot_spec.png\n",
        "- screenshot_CPUQ2_output.png\n",
        "- screenshot_GPUQ2_output.png\n",
        "- Specs.cu\n",
        "- CPUQ2.c  \n",
        "- GPUQ2.cu\n",
        "2. Donwload the .ipynb file file> Download> Download .ipynb\n",
        "3. Compress all files (.c, .cu and .png) into one zip file and submit the zip file. the PNG file from Q1 and Q2 and the source code file (i.e. the .cu/c files) from Q2 into one zip folder and give a name to the zipped file that matches your ID (e.g., 1234567.zip).\n",
        "\n",
        "4. Submit the .ipynb file and zipped file to Canvas.\n",
        "\n",
        "Note that you can resubmit an assignment, but the new submission overwrites the old submission and receives a new timestamp."
      ]
    },
    {
      "cell_type": "code",
      "source": [],
      "metadata": {
        "id": "mdHqtluZV8Fz"
      },
      "execution_count": null,
      "outputs": []
    }
  ],
  "metadata": {
    "accelerator": "GPU",
    "colab": {
      "provenance": []
    },
    "kernelspec": {
      "display_name": "Python 3",
      "name": "python3"
    }
  },
  "nbformat": 4,
  "nbformat_minor": 0
}